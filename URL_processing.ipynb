{
 "cells": [
  {
   "cell_type": "code",
   "execution_count": 1,
   "id": "653df40e",
   "metadata": {},
   "outputs": [],
   "source": [
    "import numpy as np"
   ]
  },
  {
   "cell_type": "code",
   "execution_count": 2,
   "id": "6181b426",
   "metadata": {},
   "outputs": [
    {
     "name": "stdout",
     "output_type": "stream",
     "text": [
      "[0, 0, 0, 0, 0, 0, 0, 0, 0, 0, 0, 0, 0, 0, 0, 0, 0, 0, 0, 0, 0, 0, 0, 0, 0, 0, 0, 0, 0, 0, 0, 0, 0, 0, 0, 0, 0, 0, 0, 0, 0, 0, 0, 0, 0, 0, 0, 0, 0, 0, 0, 0, 0, 0, 0, 0, 0, 0, 0, 0, 0, 0, 0, 0, 0, 0, 0, 0, 0, 0, 0, 0, 0, 0, 0, 0, 0, 0, 0, 0, 0, 0, 0, 0, 0, 0, 0, 0, 0, 0, 0, 0, 0, 0, 0, 0, 0, 0, 0, 0, 0, 0, 0, 0, 0, 0, 0, 0, 0, 0, 0, 0, 0, 0, 0, 0, 0, 0, 0, 0, 0, 0, 0, 0, 0, 0, 0, 0, 0, 0, 0, 0, 0, 0, 0, 0, 0, 0, 104, 116, 116, 112, 115, 37, 51, 65, 47, 47, 101, 120, 97, 109, 112, 108, 101, 46, 99, 111, 109, 47, 112, 97, 116, 104, 37, 51, 70, 112, 97, 114, 97, 109, 49, 37, 51, 68, 118, 97, 108, 117, 101, 49, 37, 50, 54, 112, 97, 114, 97, 109, 50, 37, 51, 68, 118, 97, 108, 117, 101, 50]\n"
     ]
    }
   ],
   "source": [
    "import urllib.parse\n",
    "import tensorflow as tf\n",
    "from tensorflow.keras.preprocessing.sequence import pad_sequences\n",
    "\n",
    "def convert_url(raw_url):\n",
    "    # Tokenize the URL\n",
    "    tokenized_url = urllib.parse.quote(raw_url)\n",
    "\n",
    "    # Standardize the URL\n",
    "    standardized_url = urllib.parse.urlsplit(tokenized_url).geturl()\n",
    "\n",
    "    # Truncate or pad the URL\n",
    "    max_url_length = 200  # Maximum length of the padded URL\n",
    "\n",
    "    if len(standardized_url) > max_url_length:\n",
    "        # Truncate the URL if it is longer than the maximum length\n",
    "        truncated_url = standardized_url[-max_url_length:]\n",
    "        padded_url = [ord(char) for char in truncated_url]\n",
    "    else:\n",
    "        # Pad the URL with zeros if it is shorter than the maximum length\n",
    "        padded_url = [0] * (max_url_length - len(standardized_url)) + [ord(char) for char in standardized_url]\n",
    "\n",
    "    return padded_url\n",
    "\n",
    "# Example usage\n",
    "raw_url = \"https://example.com/path?param1=value1&param2=value2\"\n",
    "padded_url = convert_url(raw_url)\n",
    "\n",
    "print(padded_url)\n"
   ]
  },
  {
   "cell_type": "code",
   "execution_count": null,
   "id": "2c809830",
   "metadata": {},
   "outputs": [],
   "source": []
  }
 ],
 "metadata": {
  "kernelspec": {
   "display_name": "Python 3 (ipykernel)",
   "language": "python",
   "name": "python3"
  },
  "language_info": {
   "codemirror_mode": {
    "name": "ipython",
    "version": 3
   },
   "file_extension": ".py",
   "mimetype": "text/x-python",
   "name": "python",
   "nbconvert_exporter": "python",
   "pygments_lexer": "ipython3",
   "version": "3.10.4"
  }
 },
 "nbformat": 4,
 "nbformat_minor": 5
}
